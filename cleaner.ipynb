{
 "cells": [
  {
   "cell_type": "code",
   "execution_count": 62,
   "id": "d1ad81b7",
   "metadata": {},
   "outputs": [
    {
     "name": "stdout",
     "output_type": "stream",
     "text": [
      "                 Player Nation    Pos               Team   Age  MP  Starts  \\\n",
      "43         James Milner    ENG  MF,DF       Liverpool FC  36.0  31       7   \n",
      "120         Lucas Moura    BRA  MF,DF  Tottenham Hotspur  29.0  15       0   \n",
      "130  Ruben Loftus-Cheek    ENG  MF,DF         Chelsea FC  26.0  25      19   \n",
      "\n",
      "        Min  Gls  Ast   PK   xG  xAG  \n",
      "43    913.0  0.0  1.0  0.0  0.4  0.9  \n",
      "120   153.0  1.0  0.0  0.0  0.5  0.3  \n",
      "130  1536.0  0.0  1.0  0.0  0.8  1.5  \n"
     ]
    },
    {
     "data": {
      "text/plain": [
       "Pos\n",
       "DF    55\n",
       "FW    39\n",
       "GK    10\n",
       "MF    49\n",
       "Name: Player, dtype: int64"
      ]
     },
     "execution_count": 62,
     "metadata": {},
     "output_type": "execute_result"
    }
   ],
   "source": [
    "import pandas as pd\n",
    "\n",
    "df = pd.read_csv('final_df.csv')\n",
    "df = df.dropna()\n",
    "df = df[['Player','Nation','Pos', 'Team', 'Age','MP','Starts','Min', 'Gls', 'Ast', 'PK', 'xG', 'xAG']]\n",
    "\n",
    "df[['NationCode', 'Nation']] = df['Nation'].str.split(' ', 1, expand=True)\n",
    "df = df[['Player','Nation','Pos', 'Team','Age','MP','Starts','Min', 'Gls', 'Ast', 'PK', 'xG', 'xAG']]\n",
    "\n",
    "#Individually fixing positions\n",
    "df.at[63,'Pos'] = 'DF'\n",
    "df.at[67,'Pos'] = 'DF'\n",
    "df.at[70,'Pos'] = 'DF'\n",
    "df.at[104,'Pos'] = 'DF'\n",
    "df.at[110, 'Pos'] = 'DF'\n",
    "df.at[115,'Pos'] = 'DF'\n",
    "df.at[136,'Pos'] = 'DF'\n",
    "df.at[138,'Pos'] = 'DF'\n",
    "\n",
    "#Individually fixing positions\n",
    "df.at[122,'Pos'] = 'FW'\n",
    "df.at[143,'Pos'] = 'FW'\n",
    "\n",
    "#Individually fixing positions\n",
    "df.at[10,'Pos'] = 'FW'\n",
    "df.at[17,'Pos'] = 'FW'\n",
    "df.at[20,'Pos'] = 'FW'\n",
    "df.at[34,'Pos'] = 'FW'\n",
    "df.at[37,'Pos'] = 'FW'\n",
    "df.at[46,'Pos'] = 'MF'\n",
    "df.at[60,'Pos'] = 'FW'\n",
    "df.at[65,'Pos'] = 'FW'\n",
    "df.at[119,'Pos'] = 'FW'\n",
    "df.at[123,'Pos'] = 'FW'\n",
    "df.at[126,'Pos'] = 'FW'\n",
    "df.at[140,'Pos'] = 'FW'\n",
    "df.at[145,'Pos'] = 'FW'\n",
    "df.at[147,'Pos'] = 'FW'\n",
    "\n",
    "#Individually fixing positions\n",
    "df.at[1,'Pos'] = 'MF'\n",
    "df.at[32,'Pos'] = 'MF'\n",
    "df.at[45,'Pos'] = 'MF'\n",
    "df.at[56,'Pos'] = 'MF'\n",
    "df.at[69,'Pos'] = 'MF'\n",
    "df.at[90,'Pos'] = 'MF'\n",
    "df.at[94,'Pos'] = 'MF'\n",
    "df.at[98,'Pos'] = 'FW'\n",
    "df.at[105,'Pos'] = 'MF'\n",
    "df.at[111,'Pos'] = 'FW'\n",
    "df.at[116,'Pos'] = 'MF'\n",
    "df.at[117,'Pos'] = 'MF'\n",
    "df.at[129,'Pos'] = 'MF'\n",
    "df.at[151,'Pos'] = 'MF'\n",
    "\n",
    "print(df.loc[df['Pos'] == 'MF,DF'])\n",
    "\n",
    "#Individually fixing positions\n",
    "df.at[43,'Pos'] = 'MF'\n",
    "df.at[120,'Pos'] = 'MF'\n",
    "df.at[130,'Pos'] = 'MF'\n"
   ]
  },
  {
   "cell_type": "code",
   "execution_count": null,
   "id": "09cccb8f",
   "metadata": {},
   "outputs": [],
   "source": []
  }
 ],
 "metadata": {
  "kernelspec": {
   "display_name": "Python 3 (ipykernel)",
   "language": "python",
   "name": "python3"
  },
  "language_info": {
   "codemirror_mode": {
    "name": "ipython",
    "version": 3
   },
   "file_extension": ".py",
   "mimetype": "text/x-python",
   "name": "python",
   "nbconvert_exporter": "python",
   "pygments_lexer": "ipython3",
   "version": "3.9.13"
  }
 },
 "nbformat": 4,
 "nbformat_minor": 5
}
